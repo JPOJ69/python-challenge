{
 "cells": [
  {
   "cell_type": "code",
   "execution_count": 16,
   "id": "091b961b-eb0a-4095-9e66-bc09f0d63592",
   "metadata": {},
   "outputs": [
    {
     "ename": "SyntaxError",
     "evalue": "EOL while scanning string literal (2991535498.py, line 66)",
     "output_type": "error",
     "traceback": [
      "\u001b[1;36m  File \u001b[1;32m\"C:\\Users\\Matt\\AppData\\Local\\Temp\\ipykernel_119056\\2991535498.py\"\u001b[1;36m, line \u001b[1;32m66\u001b[0m\n\u001b[1;33m    textfile.write(f\"Greatest Decrease in Profits: {greatest_decrease[0]}\u001b[0m\n\u001b[1;37m                                                                         ^\u001b[0m\n\u001b[1;31mSyntaxError\u001b[0m\u001b[1;31m:\u001b[0m EOL while scanning string literal\n"
     ]
    }
   ],
   "source": [
    "import csv\n",
    "\n",
    "total_months = 0\n",
    "total_pl = 0\n",
    "average_change = 0\n",
    "greatest_increase = [\"\", 0]\n",
    "greatest_decrease = [\"\", 9999]\n",
    "\n",
    "with open(\"budget_data.csv\", \"r\") as csvfile:\n",
    "    csvreader = csv.reader(csvfile, delimiter=\",\")\n",
    "\n",
    "    # Skip the header row\n",
    "    \n",
    "    next(csvreader, None)\n",
    "\n",
    "    # Store the first row values as the starting values for comparison\n",
    "    \n",
    "    first_row = next(csvreader)\n",
    "    total_months = 1\n",
    "    total_pl = int(first_row[1])\n",
    "    prev_pl = int(first_row[1])\n",
    "\n",
    "    for row in csvreader:\n",
    "        # Count the number of months\n",
    "        \n",
    "        total_months += 1\n",
    "        # Add to the total profit/losses\n",
    "        \n",
    "        total_pl += int(row[1])\n",
    "\n",
    "        # Calculate the difference between the current and previous profit/losses\n",
    "        \n",
    "        pl_change = int(row[1]) - prev_pl\n",
    "        prev_pl = int(row[1])\n",
    "\n",
    "        # Check if this difference is the greatest increase or decrease\n",
    "        \n",
    "        if pl_change > greatest_increase[1]:\n",
    "            greatest_increase[1] = pl_change\n",
    "            greatest_increase[0] = row[0]\n",
    "        elif pl_change < greatest_decrease[1]:\n",
    "            greatest_decrease[1] = pl_change\n",
    "            greatest_decrease[0] = row[0]\n",
    "\n",
    "# Calculate the average change in profit/losses\n",
    "\n",
    "average_change = round(total_pl / total_months, 2)\n",
    "\n",
    "# Print the results\n",
    "\n",
    "print(\"Financial Analysis\")\n",
    "print(f\"Total Months: {total_months}\")\n",
    "print(f\"Total: ${total_pl}\")\n",
    "print(f\"Average Change: ${average_change}\")\n",
    "print(f\"Greatest Increase in Profits: {greatest_increase[0]} (${greatest_increase[1]})\")\n",
    "print(f\"Greatest Decrease in Profits: {greatest_decrease[0]} (${greatest_decrease[1]})\")\n",
    "\n",
    "# Export the results to a text file\n",
    "\n",
    "with open(\"financial_analysis.txt\", \"w\") as textfile:\n",
    "    textfile.write(\"Financial Analysis\\n\")\n",
    "    textfile.write(f\"Total Months: {total_months}\\n\")\n",
    "    textfile.write(f\"Total: ${total_pl}\\n\")\n",
    "    textfile.write(f\"Average Change: ${average_change}\\n\")\n",
    "    textfile.write(f\"Greatest Increase in Profits: {greatest_increase[0]} (${greatest_increase[1]})\\n\")\n",
    "    textfile.write(f\"Greatest Decrease in Profits: {greatest_decrease[0]}\n",
    "    "
   ]
  },
  {
   "cell_type": "code",
   "execution_count": null,
   "id": "fbc72643-22db-4824-bb1a-b84140ce34ca",
   "metadata": {},
   "outputs": [],
   "source": []
  }
 ],
 "metadata": {
  "kernelspec": {
   "display_name": "Python 3 (ipykernel)",
   "language": "python",
   "name": "python3"
  },
  "language_info": {
   "codemirror_mode": {
    "name": "ipython",
    "version": 3
   },
   "file_extension": ".py",
   "mimetype": "text/x-python",
   "name": "python",
   "nbconvert_exporter": "python",
   "pygments_lexer": "ipython3",
   "version": "3.7.15"
  }
 },
 "nbformat": 4,
 "nbformat_minor": 5
}
